{
 "cells": [
  {
   "attachments": {},
   "cell_type": "markdown",
   "metadata": {},
   "source": [
    "在学习图像增广的时候，想在一张画布上展示多张图片，包括原始图片和图像增广后的图片。开始以为很简单的事实，用plt构建一个画布，划分多个子区域，每个字区域显示一张图片。但是plt总是伸缩图片，使图片占满整个子区域。我找了一天的资料才解决这个问题，今天记录下来。"
   ]
  },
  {
   "cell_type": "code",
   "execution_count": null,
   "metadata": {},
   "outputs": [],
   "source": [
    "import "
   ]
  }
 ],
 "metadata": {
  "language_info": {
   "name": "python"
  },
  "orig_nbformat": 4
 },
 "nbformat": 4,
 "nbformat_minor": 2
}
